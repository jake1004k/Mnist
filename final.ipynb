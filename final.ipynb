{
 "cells": [
  {
   "cell_type": "code",
   "execution_count": 1,
   "id": "6b728cc4-1e8a-4ce3-aec5-d03a63f34ca4",
   "metadata": {},
   "outputs": [],
   "source": [
    "import numpy as np\n",
    "import matplotlib.pyplot as plt\n",
    "%matplotlib inline\n",
    "import seaborn as sns\n",
    "import pandas as pd\n",
    "np.random.seed(0)\n",
    "import pickle\n",
    "from keras.datasets import mnist\n",
    "import keras\n",
    "from tensorflow.keras.layers import Input, Dense, Dropout\n",
    "from keras.models import Sequential"
   ]
  },
  {
   "cell_type": "code",
   "execution_count": 2,
   "id": "c60e180c-41c6-490b-b7f3-0de8aab873e6",
   "metadata": {},
   "outputs": [],
   "source": [
    "\n",
    "(x_train, y_train), (x_test, y_test) = mnist.load_data()"
   ]
  },
  {
   "cell_type": "code",
   "execution_count": 3,
   "id": "82533607-22e8-48c9-929d-76c2f47fcc06",
   "metadata": {},
   "outputs": [
    {
     "name": "stdout",
     "output_type": "stream",
     "text": [
      "(60000, 28, 28) (60000,)\n",
      "(10000, 28, 28) (10000,)\n"
     ]
    }
   ],
   "source": [
    "print(x_train.shape, y_train.shape)\n",
    "print(x_test.shape, y_test.shape)"
   ]
  },
  {
   "cell_type": "code",
   "execution_count": 4,
   "id": "1284a0c5-15e8-408e-98cf-4788b7a9b91a",
   "metadata": {},
   "outputs": [],
   "source": [
    "x_train = x_train / 255.0\n",
    "x_test = x_test / 255.0"
   ]
  },
  {
   "cell_type": "code",
   "execution_count": 5,
   "id": "7be0f8f3-ffc6-4f7b-864d-1590572ac963",
   "metadata": {},
   "outputs": [
    {
     "name": "stdout",
     "output_type": "stream",
     "text": [
      "(60000, 784)\n"
     ]
    }
   ],
   "source": [
    "x_train = x_train.reshape(x_train.shape[0], 784)\n",
    "x_test = x_test.reshape(x_test.shape[0], 784)\n",
    "print(x_train.shape)"
   ]
  },
  {
   "cell_type": "code",
   "execution_count": 6,
   "id": "25e6b86b-6297-4600-8d2d-d74b316f8093",
   "metadata": {},
   "outputs": [],
   "source": [
    "\n",
    "\n",
    "model=Sequential()\n",
    "model.add(Input(shape=(784,)))\n",
    "model.add(Dense(units=128, input_shape=(784,), activation='relu'))\n",
    "model.add(Dense(units=128, activation='relu'))\n",
    "model.add(Dropout(0.25))\n",
    "model.add(Dense(units=10, activation='softmax'))\n",
    "\n",
    "model.compile(loss='sparse_categorical_crossentropy', optimizer='adam', metrics=['accuracy'])"
   ]
  },
  {
   "cell_type": "code",
   "execution_count": 7,
   "id": "d43d81fd-a522-4416-b793-bb85599a9349",
   "metadata": {
    "scrolled": true
   },
   "outputs": [
    {
     "name": "stdout",
     "output_type": "stream",
     "text": [
      "Epoch 1/13\n",
      "1875/1875 [==============================] - 12s 5ms/step - loss: 0.2666 - accuracy: 0.9217\n",
      "Epoch 2/13\n",
      "1875/1875 [==============================] - 11s 6ms/step - loss: 0.1145 - accuracy: 0.9658\n",
      "Epoch 3/13\n",
      "1875/1875 [==============================] - 11s 6ms/step - loss: 0.0818 - accuracy: 0.9745\n",
      "Epoch 4/13\n",
      "1875/1875 [==============================] - 11s 6ms/step - loss: 0.0647 - accuracy: 0.9800\n",
      "Epoch 5/13\n",
      "1875/1875 [==============================] - 13s 7ms/step - loss: 0.0511 - accuracy: 0.9838\n",
      "Epoch 6/13\n",
      "1875/1875 [==============================] - 14s 8ms/step - loss: 0.0417 - accuracy: 0.9865\n",
      "Epoch 7/13\n",
      "1875/1875 [==============================] - 15s 8ms/step - loss: 0.0369 - accuracy: 0.9884\n",
      "Epoch 8/13\n",
      "1875/1875 [==============================] - 15s 8ms/step - loss: 0.0336 - accuracy: 0.9888\n",
      "Epoch 9/13\n",
      "1875/1875 [==============================] - 15s 8ms/step - loss: 0.0257 - accuracy: 0.9916\n",
      "Epoch 10/13\n",
      "1875/1875 [==============================] - 15s 8ms/step - loss: 0.0250 - accuracy: 0.9920\n",
      "Epoch 11/13\n",
      "1875/1875 [==============================] - 14s 7ms/step - loss: 0.0229 - accuracy: 0.9923\n",
      "Epoch 12/13\n",
      "1875/1875 [==============================] - 17s 9ms/step - loss: 0.0203 - accuracy: 0.9933\n",
      "Epoch 13/13\n",
      "1875/1875 [==============================] - 17s 9ms/step - loss: 0.0192 - accuracy: 0.9937\n"
     ]
    },
    {
     "data": {
      "text/plain": [
       "<keras.callbacks.History at 0x236bb008050>"
      ]
     },
     "execution_count": 7,
     "metadata": {},
     "output_type": "execute_result"
    }
   ],
   "source": [
    "\n",
    "epochs=13\n",
    "model.fit(x=x_train, y=y_train,  epochs=epochs)"
   ]
  },
  {
   "cell_type": "code",
   "execution_count": 8,
   "id": "e77f2f21-b7ad-424e-b71a-2419fa87bb18",
   "metadata": {},
   "outputs": [],
   "source": []
  },
  {
   "cell_type": "code",
   "execution_count": 9,
   "id": "454e1207-1c4c-4562-8900-a1abdf9fd1cb",
   "metadata": {},
   "outputs": [],
   "source": [
    "pickle.dump(model, open('mnist_model.pkl','wb'))"
   ]
  },
  {
   "cell_type": "code",
   "execution_count": 8,
   "id": "fd1f1d14-ec8d-4239-861b-0f961c59ab66",
   "metadata": {},
   "outputs": [
    {
     "name": "stdout",
     "output_type": "stream",
     "text": [
      "Note: you may need to restart the kernel to use updated packages.\n"
     ]
    }
   ],
   "source": [
    "pip freeze > requirements.txt"
   ]
  },
  {
   "cell_type": "code",
   "execution_count": null,
   "id": "e3a65999-1e7b-4bad-aea3-0a89bf92095f",
   "metadata": {},
   "outputs": [],
   "source": []
  }
 ],
 "metadata": {
  "kernelspec": {
   "display_name": "Python 3 (ipykernel)",
   "language": "python",
   "name": "python3"
  },
  "language_info": {
   "codemirror_mode": {
    "name": "ipython",
    "version": 3
   },
   "file_extension": ".py",
   "mimetype": "text/x-python",
   "name": "python",
   "nbconvert_exporter": "python",
   "pygments_lexer": "ipython3",
   "version": "3.11.7"
  }
 },
 "nbformat": 4,
 "nbformat_minor": 5
}
