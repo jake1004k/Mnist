{
 "cells": [
  {
   "cell_type": "code",
   "execution_count": 4,
   "id": "7bf88539-c2d7-4556-99a2-b36360b422a7",
   "metadata": {},
   "outputs": [
    {
     "name": "stdout",
     "output_type": "stream",
     "text": [
      "1/1 [==============================] - 0s 59ms/step\n",
      "Predictions: [7 2 1 0 4 1 4 9 5 9]\n",
      "Actual labels: [7 2 1 0 4 1 4 9 5 9]\n"
     ]
    }
   ],
   "source": [
    "import numpy as np\n",
    "import pickle\n",
    "from tensorflow.keras.datasets import mnist\n",
    "\n",
    "# Load the model\n",
    "model = pickle.load(open('mnist_model.pkl', 'rb'))\n",
    "\n",
    "# Load the MNIST data\n",
    "(x_train, y_train), (x_test, y_test) = mnist.load_data()\n",
    "\n",
    "# Preprocess the data\n",
    "x_test = x_test.reshape(x_test.shape[0], 784) / 255.0\n",
    "\n",
    "# Predict on the first 10 samples from the test set\n",
    "predictions = model.predict(x_test[:10])\n",
    "\n",
    "# Print the predictions and actual labels\n",
    "print(\"Predictions:\", np.argmax(predictions, axis=1))\n",
    "print(\"Actual labels:\", y_test[:10])\n"
   ]
  },
  {
   "cell_type": "code",
   "execution_count": null,
   "id": "465dd16c-e50b-4bcc-a63b-dc6e086bc087",
   "metadata": {},
   "outputs": [],
   "source": []
  },
  {
   "cell_type": "code",
   "execution_count": null,
   "id": "104d1e09-3e32-482e-be24-0c44b52b7e89",
   "metadata": {},
   "outputs": [],
   "source": []
  }
 ],
 "metadata": {
  "kernelspec": {
   "display_name": "Python 3 (ipykernel)",
   "language": "python",
   "name": "python3"
  },
  "language_info": {
   "codemirror_mode": {
    "name": "ipython",
    "version": 3
   },
   "file_extension": ".py",
   "mimetype": "text/x-python",
   "name": "python",
   "nbconvert_exporter": "python",
   "pygments_lexer": "ipython3",
   "version": "3.11.7"
  }
 },
 "nbformat": 4,
 "nbformat_minor": 5
}
