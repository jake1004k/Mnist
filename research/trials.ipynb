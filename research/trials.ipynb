import numpy as np
import pickle
from tensorflow.keras.datasets import mnist


# Load the model
model = pickle.load(open('mnist_model.pkl', 'rb'))

# Load the MNIST data
(x_train, y_train), (x_test, y_test) = mnist.load_data()

# Preprocess the data
x_test = x_test.reshape(x_test.shape[0], 784) / 255.0

# Predict on the first 10 samples from the test set
predictions = model.predict(x_test[:10])

# Print the predictions and actual labels
print("Predictions:", np.argmax(predictions, axis=1))
print("Actual labels:", y_test[:10])
