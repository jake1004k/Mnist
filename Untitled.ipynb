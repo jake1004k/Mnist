{
 "cells": [
  {
   "cell_type": "code",
   "execution_count": 1,
   "id": "38c437e6-cb97-40ae-a82e-8a964d729b25",
   "metadata": {},
   "outputs": [
    {
     "name": "stdout",
     "output_type": "stream",
     "text": [
      "Epoch 1/13\n",
      "1875/1875 [==============================] - 17s 8ms/step - loss: 0.2622 - accuracy: 0.9231 - val_loss: 0.1212 - val_accuracy: 0.9617\n",
      "Epoch 2/13\n",
      "1875/1875 [==============================] - 16s 8ms/step - loss: 0.1147 - accuracy: 0.9655 - val_loss: 0.0829 - val_accuracy: 0.9737\n",
      "Epoch 3/13\n",
      "1875/1875 [==============================] - 15s 8ms/step - loss: 0.0824 - accuracy: 0.9746 - val_loss: 0.0815 - val_accuracy: 0.9737\n",
      "Epoch 4/13\n",
      "1875/1875 [==============================] - 15s 8ms/step - loss: 0.0618 - accuracy: 0.9800 - val_loss: 0.0893 - val_accuracy: 0.9730\n",
      "Epoch 5/13\n",
      "1875/1875 [==============================] - 16s 8ms/step - loss: 0.0531 - accuracy: 0.9832 - val_loss: 0.0820 - val_accuracy: 0.9757\n",
      "Epoch 6/13\n",
      "1875/1875 [==============================] - 16s 9ms/step - loss: 0.0430 - accuracy: 0.9858 - val_loss: 0.0746 - val_accuracy: 0.9801\n",
      "Epoch 7/13\n",
      "1875/1875 [==============================] - 15s 8ms/step - loss: 0.0368 - accuracy: 0.9883 - val_loss: 0.0790 - val_accuracy: 0.9788\n",
      "Epoch 8/13\n",
      "1875/1875 [==============================] - 13s 7ms/step - loss: 0.0326 - accuracy: 0.9893 - val_loss: 0.0866 - val_accuracy: 0.9761\n",
      "Epoch 9/13\n",
      "1875/1875 [==============================] - 15s 8ms/step - loss: 0.0280 - accuracy: 0.9907 - val_loss: 0.0912 - val_accuracy: 0.9785\n",
      "Epoch 10/13\n",
      "1875/1875 [==============================] - 13s 7ms/step - loss: 0.0244 - accuracy: 0.9920 - val_loss: 0.0926 - val_accuracy: 0.9785\n",
      "Epoch 11/13\n",
      "1875/1875 [==============================] - 16s 9ms/step - loss: 0.0241 - accuracy: 0.9920 - val_loss: 0.0897 - val_accuracy: 0.9794\n",
      "Epoch 12/13\n",
      "1875/1875 [==============================] - 16s 9ms/step - loss: 0.0202 - accuracy: 0.9933 - val_loss: 0.1061 - val_accuracy: 0.9777\n",
      "Epoch 13/13\n",
      "1875/1875 [==============================] - 5s 3ms/step - loss: 0.0194 - accuracy: 0.9937 - val_loss: 0.0896 - val_accuracy: 0.9810\n"
     ]
    }
   ],
   "source": [
    "import numpy as np\n",
    "import pickle\n",
    "from keras.models import Sequential\n",
    "from keras.layers import Dense, Dropout, Input\n",
    "from keras.datasets import mnist\n",
    "from keras.utils import to_categorical\n",
    "\n",
    "# Load MNIST dataset\n",
    "(x_train, y_train), (x_test, y_test) = mnist.load_data()\n",
    "\n",
    "# Preprocess data\n",
    "x_train = x_train.reshape(x_train.shape[0], 784).astype('float32') / 255\n",
    "x_test = x_test.reshape(x_test.shape[0], 784).astype('float32') / 255\n",
    "\n",
    "# Convert labels to categorical one-hot encoding\n",
    "y_train = to_categorical(y_train, 10)\n",
    "y_test = to_categorical(y_test, 10)\n",
    "\n",
    "# Define the model\n",
    "model = Sequential()\n",
    "model.add(Input(shape=(784,)))\n",
    "model.add(Dense(units=128, activation='relu'))\n",
    "model.add(Dense(units=128, activation='relu'))\n",
    "model.add(Dropout(0.25))\n",
    "model.add(Dense(units=10, activation='softmax'))\n",
    "\n",
    "# Compile the model\n",
    "model.compile(loss='categorical_crossentropy', optimizer='adam', metrics=['accuracy'])\n",
    "\n",
    "# Train the model\n",
    "epochs = 13\n",
    "model.fit(x_train, y_train, epochs=epochs, validation_data=(x_test, y_test))\n",
    "\n",
    "# Save the model to a file\n",
    "with open('mnist_model.pkl', 'wb') as file:\n",
    "    pickle.dump(model, file)"
   ]
  },
  {
   "cell_type": "code",
   "execution_count": null,
   "id": "196ed9fc-f85b-47c2-9d92-1d529e04fff5",
   "metadata": {},
   "outputs": [],
   "source": []
  }
 ],
 "metadata": {
  "kernelspec": {
   "display_name": "Python 3 (ipykernel)",
   "language": "python",
   "name": "python3"
  },
  "language_info": {
   "codemirror_mode": {
    "name": "ipython",
    "version": 3
   },
   "file_extension": ".py",
   "mimetype": "text/x-python",
   "name": "python",
   "nbconvert_exporter": "python",
   "pygments_lexer": "ipython3",
   "version": "3.11.7"
  }
 },
 "nbformat": 4,
 "nbformat_minor": 5
}
